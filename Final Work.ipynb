{
 "cells": [
  {
   "cell_type": "markdown",
   "metadata": {},
   "source": [
    "# Salaries of Data Science Professionals\n"
   ]
  },
  {
   "cell_type": "markdown",
   "metadata": {},
   "source": [
    "## Introduction\n",
    "\n",
    "This notebook explores the salaries of data science professionals in different industries and locations.\n"
   ]
  },
  {
   "cell_type": "markdown",
   "metadata": {},
   "source": [
    "## Data Science Languages\n",
    "\n",
    "The most common languages ​​in data science are:\n",
    "\n",
    "1. **Python**: Predominant in data analysis and machine learning.\n",
    "2. **R**: Popular in statistics and data analysis.\n",
    "3. **SQL**: Fundamental for database management and manipulation.\n",
    "4. **Java**: Used in big data and application development.\n",
    "5. **SAS**: Advanced analysis tool in specific sectors.\n"
   ]
  },
  {
   "cell_type": "markdown",
   "metadata": {},
   "source": [
    "## Data Science Libraries\n",
    "\n",
    "Some essential libraries that influence the salaries of data science professionals are:\n",
    "\n",
    "1. **NumPy**: For numerical calculations and array manipulation.\n",
    "2. **Pandas**: Facilitates data manipulation and analysis.\n",
    "3. **Matplotlib**: For creating graphical visualizations.\n",
    "4. **Scikit-learn**: Provides machine learning tools.\n",
    "5. **TensorFlow**: Used in developing deep learning models.\n"
   ]
  },
  {
   "cell_type": "markdown",
   "metadata": {},
   "source": [
    "## Data Science Tools\n",
    "\n",
    "| Tool | Description |\n",
    "|-------------------|------------------------------------------------|\n",
    "| Jupyter Notebook | Interactive data analysis environment. |\n",
    "| RStudio | IDE for the R language. |\n",
    "| Anaconda | Distribution that includes data science tools. |\n",
    "| Tableau | Data visualization tool. |\n",
    "| Power BI | Microsoft solution for reporting and analysis. |\n"
   ]
  },
  {
   "cell_type": "markdown",
   "metadata": {},
   "source": [
    "## Examples of Arithmetic Expressions\n",
    "\n",
    "When calculating salaries, arithmetic expressions are useful for:\n",
    "\n",
    "- **Sum**: Total salaries of all employees.\n",
    "- **Average**: Calculation of average salary.\n",
    "- **Percentage**: Salary increase relative to current salary.\n"
   ]
  },
  {
   "cell_type": "markdown",
   "metadata": {},
   "source": [
    "# Code to calculate average salary\n",
    "salaries = [80000, 95000, 70000, 120000, 110000]"
   ]
  },
  {
   "cell_type": "markdown",
   "metadata": {},
   "source": [
    "# Calculating average salary\n",
    "average_salary = sum(salaries) / len(salaries)\n",
    "print(\"The average salary for data science professionals is:\", average_salary)\n"
   ]
  },
  {
   "cell_type": "markdown",
   "metadata": {},
   "source": [
    "# Code to calculate salary increase\n",
    "current_salary = 80000\n",
    "percentage_increase = 10 # 10%\n",
    "\n",
    "# Calculation of new salary\n",
    "new_salary = current_salary * (1 + percentage_increase / 100)\n",
    "print(\"The new salary after the increase is:\", new_salary)"
   ]
  },
  {
   "cell_type": "markdown",
   "metadata": {},
   "source": [
    "# Notebook Objectives\n",
    "objectives = [\n",
    "\"Analyze the salaries of data science professionals.\",\n",
    "\"Calculate the average salary and salary increases.\",\n",
    "\"Explore the influence of skills on salaries.\"\n",
    "]\n",
    "\n",
    "# List objectives\n",
    "for objective in objectives:\n",
    "print(\"- \" + objective)"
   ]
  },
  {
   "cell_type": "markdown",
   "metadata": {},
   "source": [
    "## Author\n",
    "\n",
    "**Author Name:** Michel Angelo Sicha Razo"
   ]
  }
 ],
 "metadata": {
  "kernelspec": {
   "display_name": "Python 3 (ipykernel)",
   "language": "python",
   "name": "python3"
  },
  "language_info": {
   "codemirror_mode": {
    "name": "ipython",
    "version": 3
   },
   "file_extension": ".py",
   "mimetype": "text/x-python",
   "name": "python",
   "nbconvert_exporter": "python",
   "pygments_lexer": "ipython3",
   "version": "3.11.9"
  }
 },
 "nbformat": 4,
 "nbformat_minor": 4
}
